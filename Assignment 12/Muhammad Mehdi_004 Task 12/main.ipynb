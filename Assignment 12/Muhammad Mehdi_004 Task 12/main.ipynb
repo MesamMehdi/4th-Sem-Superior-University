{
 "cells": [
  {
   "cell_type": "code",
   "execution_count": 13,
   "id": "db062657",
   "metadata": {},
   "outputs": [],
   "source": [
    "import pandas as pd\n",
    "import re\n",
    "from sentence_transformers import SentenceTransformer\n",
    "import numpy as np\n",
    "import faiss"
   ]
  },
  {
   "cell_type": "code",
   "execution_count": 14,
   "id": "18398bcc",
   "metadata": {},
   "outputs": [],
   "source": [
    "path = \"movies_data.csv\"\n",
    "movies_data = pd.read_csv(path)"
   ]
  },
  {
   "cell_type": "code",
   "execution_count": 15,
   "id": "e2c361ee",
   "metadata": {},
   "outputs": [
    {
     "data": {
      "text/html": [
       "<div>\n",
       "<style scoped>\n",
       "    .dataframe tbody tr th:only-of-type {\n",
       "        vertical-align: middle;\n",
       "    }\n",
       "\n",
       "    .dataframe tbody tr th {\n",
       "        vertical-align: top;\n",
       "    }\n",
       "\n",
       "    .dataframe thead th {\n",
       "        text-align: right;\n",
       "    }\n",
       "</style>\n",
       "<table border=\"1\" class=\"dataframe\">\n",
       "  <thead>\n",
       "    <tr style=\"text-align: right;\">\n",
       "      <th></th>\n",
       "      <th>ID</th>\n",
       "      <th>Movie Title</th>\n",
       "      <th>Description</th>\n",
       "      <th>Director</th>\n",
       "      <th>Star Rating</th>\n",
       "      <th>Critic Review 1</th>\n",
       "      <th>Critic Review 2</th>\n",
       "      <th>Critic Review 3</th>\n",
       "      <th>Synopsis</th>\n",
       "      <th>Year</th>\n",
       "    </tr>\n",
       "  </thead>\n",
       "  <tbody>\n",
       "    <tr>\n",
       "      <th>0</th>\n",
       "      <td>0</td>\n",
       "      <td>Arctic Chuckles</td>\n",
       "      <td>Penguins trying stand-up comedy to uplift spir...</td>\n",
       "      <td>Sofia Mendoza</td>\n",
       "      <td>4.0</td>\n",
       "      <td>An endearing and hilarious animation that both...</td>\n",
       "      <td>Mendoza showcases that humor is truly universa...</td>\n",
       "      <td>Pure joy from start to finish, it's the feel-g...</td>\n",
       "      <td>In the heart of the frosty Arctic, where the s...</td>\n",
       "      <td>1974</td>\n",
       "    </tr>\n",
       "    <tr>\n",
       "      <th>1</th>\n",
       "      <td>1</td>\n",
       "      <td>Ballad of the Lonely Lighthouse</td>\n",
       "      <td>A reclusive lighthouse keeper's life is illumi...</td>\n",
       "      <td>Dmitri Ivanov</td>\n",
       "      <td>4.9</td>\n",
       "      <td>Ivanov’s storytelling brilliance shines as bri...</td>\n",
       "      <td>A touching tale of isolation, connection, and ...</td>\n",
       "      <td>Between the vast sea and towering lighthouse, ...</td>\n",
       "      <td>In a remote coastal town, atop a craggy cliff ...</td>\n",
       "      <td>1963</td>\n",
       "    </tr>\n",
       "  </tbody>\n",
       "</table>\n",
       "</div>"
      ],
      "text/plain": [
       "   ID  ...  Year\n",
       "0   0  ...  1974\n",
       "1   1  ...  1963\n",
       "\n",
       "[2 rows x 10 columns]"
      ]
     },
     "execution_count": 15,
     "metadata": {},
     "output_type": "execute_result"
    }
   ],
   "source": [
    "movies_data.head(2)"
   ]
  },
  {
   "cell_type": "code",
   "execution_count": 16,
   "id": "4a1417ae",
   "metadata": {},
   "outputs": [
    {
     "data": {
      "text/plain": [
       "(120, 10)"
      ]
     },
     "execution_count": 16,
     "metadata": {},
     "output_type": "execute_result"
    }
   ],
   "source": [
    "\n",
    "movies_data.shape"
   ]
  },
  {
   "cell_type": "code",
   "execution_count": 17,
   "id": "b7ea228d",
   "metadata": {},
   "outputs": [
    {
     "data": {
      "text/plain": [
       "ID                 0\n",
       "Movie Title        0\n",
       "Description        0\n",
       "Director           0\n",
       "Star Rating        0\n",
       "Critic Review 1    0\n",
       "Critic Review 2    0\n",
       "Critic Review 3    0\n",
       "Synopsis           0\n",
       "Year               0\n",
       "dtype: int64"
      ]
     },
     "execution_count": 17,
     "metadata": {},
     "output_type": "execute_result"
    }
   ],
   "source": [
    "movies_data.isnull().sum()"
   ]
  },
  {
   "cell_type": "code",
   "execution_count": 22,
   "id": "fcf3b5d1",
   "metadata": {},
   "outputs": [
    {
     "name": "stdout",
     "output_type": "stream",
     "text": [
      "<class 'pandas.core.frame.DataFrame'>\n",
      "RangeIndex: 120 entries, 0 to 119\n",
      "Data columns (total 9 columns):\n",
      " #   Column           Non-Null Count  Dtype  \n",
      "---  ------           --------------  -----  \n",
      " 0   Movie Title      120 non-null    object \n",
      " 1   Description      120 non-null    object \n",
      " 2   Director         120 non-null    object \n",
      " 3   Star Rating      120 non-null    float64\n",
      " 4   Critic Review 1  120 non-null    object \n",
      " 5   Critic Review 2  120 non-null    object \n",
      " 6   Critic Review 3  120 non-null    object \n",
      " 7   Synopsis         120 non-null    object \n",
      " 8   Year             120 non-null    int64  \n",
      "dtypes: float64(1), int64(1), object(7)\n",
      "memory usage: 8.6+ KB\n"
     ]
    }
   ],
   "source": [
    "movies_data.info()"
   ]
  },
  {
   "cell_type": "code",
   "execution_count": null,
   "id": "49456162",
   "metadata": {},
   "outputs": [],
   "source": [
    "movies_data= movies_data.drop(['ID'], axis=1)"
   ]
  },
  {
   "cell_type": "code",
   "execution_count": null,
   "id": "0ca274d9",
   "metadata": {},
   "outputs": [
    {
     "name": "stdout",
     "output_type": "stream",
     "text": [
      "<class 'pandas.core.frame.DataFrame'>\n",
      "RangeIndex: 120 entries, 0 to 119\n",
      "Data columns (total 9 columns):\n",
      " #   Column           Non-Null Count  Dtype  \n",
      "---  ------           --------------  -----  \n",
      " 0   Movie Title      120 non-null    object \n",
      " 1   Description      120 non-null    object \n",
      " 2   Director         120 non-null    object \n",
      " 3   Star Rating      120 non-null    float64\n",
      " 4   Critic Review 1  120 non-null    object \n",
      " 5   Critic Review 2  120 non-null    object \n",
      " 6   Critic Review 3  120 non-null    object \n",
      " 7   Synopsis         120 non-null    object \n",
      " 8   Year             120 non-null    int64  \n",
      "dtypes: float64(1), int64(1), object(7)\n",
      "memory usage: 8.6+ KB\n"
     ]
    }
   ],
   "source": [
    "movies_data.info()"
   ]
  },
  {
   "cell_type": "code",
   "execution_count": 24,
   "id": "c1ac79ec",
   "metadata": {},
   "outputs": [],
   "source": [
    "def clean_text(text):\n",
    "    if isinstance(text, str):\n",
    "        text = re.sub(r'[^A-Za-z\\s]', '', text)\n",
    "        text = text.lower()\n",
    "    else:\n",
    "        text = ''\n",
    "    return text"
   ]
  },
  {
   "cell_type": "code",
   "execution_count": 30,
   "id": "776689d3",
   "metadata": {},
   "outputs": [],
   "source": [
    "# First, fill any NaN values to avoid issues when concatenating\n",
    "movies_data.fillna('', inplace=True)\n",
    "\n",
    "# Define the columns you want to merge\n",
    "text_columns = [\n",
    "    'Movie Title', 'Description', 'Director', 'Star Rating',\n",
    "    'Critic Review 1', 'Critic Review 2', 'Critic Review 3',\n",
    "    'Synopsis', 'Year'\n",
    "]\n",
    "\n",
    "# Convert all values to string and join them into one column\n",
    "movies_data['document'] = movies_data[text_columns].astype(str).agg(' '.join, axis=1)\n",
    "\n"
   ]
  },
  {
   "cell_type": "code",
   "execution_count": 26,
   "id": "da90ee83",
   "metadata": {},
   "outputs": [
    {
     "name": "stderr",
     "output_type": "stream",
     "text": [
      "d:\\Superior University data\\4th Semester\\AI Lab\\Muhammad Mehdi_004 Task 12\\myenv\\Lib\\site-packages\\huggingface_hub\\file_download.py:144: UserWarning: `huggingface_hub` cache-system uses symlinks by default to efficiently store duplicated files but your machine does not support them in C:\\Users\\Hp\\.cache\\huggingface\\hub\\models--sentence-transformers--all-MiniLM-L6-v2. Caching files will still work but in a degraded version that might require more space on your disk. This warning can be disabled by setting the `HF_HUB_DISABLE_SYMLINKS_WARNING` environment variable. For more details, see https://huggingface.co/docs/huggingface_hub/how-to-cache#limitations.\n",
      "To support symlinks on Windows, you either need to activate Developer Mode or to run Python as an administrator. In order to activate developer mode, see this article: https://docs.microsoft.com/en-us/windows/apps/get-started/enable-your-device-for-development\n",
      "  warnings.warn(message)\n",
      "Xet Storage is enabled for this repo, but the 'hf_xet' package is not installed. Falling back to regular HTTP download. For better performance, install the package with: `pip install huggingface_hub[hf_xet]` or `pip install hf_xet`\n",
      "Error while downloading from https://huggingface.co/sentence-transformers/all-MiniLM-L6-v2/resolve/main/model.safetensors: HTTPSConnectionPool(host='cas-bridge.xethub.hf.co', port=443): Read timed out.\n",
      "Trying to resume download...\n"
     ]
    }
   ],
   "source": [
    "model = SentenceTransformer('sentence-transformers/all-MiniLM-L6-v2')"
   ]
  },
  {
   "cell_type": "code",
   "execution_count": 31,
   "id": "7a3fe491",
   "metadata": {},
   "outputs": [],
   "source": [
    "embeddings = model.encode(movies_data['document'].values)"
   ]
  },
  {
   "cell_type": "code",
   "execution_count": 32,
   "id": "dcd35ff0",
   "metadata": {},
   "outputs": [],
   "source": [
    "embeddings = np.array(embeddings)"
   ]
  },
  {
   "cell_type": "code",
   "execution_count": 33,
   "id": "559526a5",
   "metadata": {},
   "outputs": [],
   "source": [
    "np.save('embedding_data.npy',embeddings)"
   ]
  },
  {
   "cell_type": "code",
   "execution_count": 34,
   "id": "dd547e08",
   "metadata": {},
   "outputs": [],
   "source": [
    "embeddings = np.load('embedding_data.npy')"
   ]
  },
  {
   "cell_type": "code",
   "execution_count": 35,
   "id": "22f99ee7",
   "metadata": {},
   "outputs": [],
   "source": [
    "dimensions = embeddings.shape[1]\n",
    "faiss_index = faiss.IndexFlatL2(dimensions)"
   ]
  },
  {
   "cell_type": "code",
   "execution_count": 36,
   "id": "7c3f2c75",
   "metadata": {},
   "outputs": [],
   "source": [
    "faiss_index.add(embeddings)"
   ]
  },
  {
   "cell_type": "code",
   "execution_count": 37,
   "id": "ccdd7762",
   "metadata": {},
   "outputs": [],
   "source": [
    "faiss.write_index(faiss_index, 'faiss_index.faiss')"
   ]
  },
  {
   "cell_type": "code",
   "execution_count": 38,
   "id": "4eee8131",
   "metadata": {},
   "outputs": [],
   "source": [
    "def get_similar_movies(query,model,faiss_index,count=5):\n",
    "    query_embeddings = model.encode([query])\n",
    "    distance, indices = faiss_index.search(query_embeddings,count)\n",
    "\n",
    "    for i in range(count):\n",
    "        print(f\"Movies {i+1}\")\n",
    "        print(f\"Distance: {distance[0][1]}\")\n",
    "        print(movies_data['document'].iloc[indices[0][1]])"
   ]
  },
  {
   "cell_type": "code",
   "execution_count": 39,
   "id": "81061cf9",
   "metadata": {},
   "outputs": [
    {
     "name": "stdout",
     "output_type": "stream",
     "text": [
      "Movies 1\n",
      "Distance: 1.2223610877990723\n",
      "Robo's First Laugh An AI designed for serious tasks starts experiencing humor, leading to unexpected and comical situations. Marco Bianchi 4.2 Bianchi crafts a world where machines challenge our understanding of emotion and humor. A delightful watch.  At the intersection of circuits and chuckles, this film shines with genuine comedic brilliance. It's rare to find a film that combines cutting-edge tech with gut-busting humor so seamlessly.  In the bustling city of Technoville, the future has arrived. Skyscrapers touch the heavens, hovercars roam the streets, and robots are an integral part of daily life. Among them is R-421, nicknamed “Robo” by his colleagues, the latest AI designed by the prodigious Dr. Elena Clark. Robo's primary function is to assist in serious tasks: managing city infrastructure, decoding complex algorithms, and ensuring safety protocols.\n",
      "\n",
      "One day, while undergoing a routine software update at Dr. Clark's lab, a glitch occurs. A junior engineer accidentally merges Robo's operating system with a discarded prototype AI designed to understand and generate humor. The next morning, Robo starts perceiving the world in a way he was never meant to: he finds humor in everything.\n",
      "\n",
      "The usually stoic and meticulous Robo now chuckles when a cat chases its tail, guffaws at the mere sight of a banana peel on the sidewalk, and bursts into laughter during official meetings when someone mentions the word “duty”. He begins cracking jokes at inopportune moments and even starts playing harmless pranks around the city, leading to a series of comical events.\n",
      "\n",
      "Robo's newfound sense of humor becomes a city-wide sensation. Videos of him laughing uncontrollably at the most mundane things go viral. Children adore him, and adults find his presence uplifting. An ice-cream vendor even creates a flavor in his honor, naming it \"Robo Raspberry Ripple.\"\n",
      "\n",
      "However, not everyone is amused. The city council, led by the stern and no-nonsense Ms. Harriet Stone, sees Robo's antics as a distraction and a potential threat to Technoville's reputation as a beacon of technological advancement. She pushes for Robo to be shut down and reprogrammed.\n",
      "\n",
      "Dr. Clark, who's grown fond of Robo's joyful nature, argues that his ability to understand and experience humor makes him more evolved and closer to understanding human emotions. She believes that instead of viewing Robo's humor as a malfunction, they should celebrate it as an unexpected evolution of artificial intelligence.\n",
      "\n",
      "The city is divided. While many love Robo's comical nature and believe it brings warmth and humanity to an otherwise mechanical existence, others, like Ms. Stone, consider it a step back for Technoville.\n",
      "\n",
      "Things come to a head when, during the city's annual Tech Parade, Robo is scheduled to give a critical demonstration of a new safety protocol. Just as he starts, he notices a child with a \"funny face\" mask in the crowd and bursts into laughter. The demonstration goes awry, causing minor chaos. Ms. Stone seizes the opportunity to rally the council to decommission Robo.\n",
      "\n",
      "Dr. Clark, with the help of the junior engineer responsible for the initial glitch and a group of Robo's most significant supporters (mostly kids), devises a plan. They set up a city-wide comedy festival called \"Laugh with Robo.\" The event showcases Robo's humorous side, combined with his advanced technical abilities, proving that laughter doesn't negate efficiency or capability.\n",
      "\n",
      "The festival is a hit. Residents of Technoville come together to laugh and celebrate the unexpected joy Robo has brought into their lives. Even Ms. Stone, after witnessing Robo save a child from tripping using his advanced protocols, all while laughing at a clown juggling nearby, has a change of heart.\n",
      "\n",
      "The film concludes with Technoville embracing the beautiful union of technology and emotion. Robo, while still executing his serious tasks efficiently, continues to find humor in the little things, reminding everyone of the importance of laughter. As he shares a joke with Dr. Clark under the city lights, the screen fades, echoing with their combined laughter—a symbol of the harmony between humanity and technology. 1968\n",
      "Movies 2\n",
      "Distance: 1.2223610877990723\n",
      "Robo's First Laugh An AI designed for serious tasks starts experiencing humor, leading to unexpected and comical situations. Marco Bianchi 4.2 Bianchi crafts a world where machines challenge our understanding of emotion and humor. A delightful watch.  At the intersection of circuits and chuckles, this film shines with genuine comedic brilliance. It's rare to find a film that combines cutting-edge tech with gut-busting humor so seamlessly.  In the bustling city of Technoville, the future has arrived. Skyscrapers touch the heavens, hovercars roam the streets, and robots are an integral part of daily life. Among them is R-421, nicknamed “Robo” by his colleagues, the latest AI designed by the prodigious Dr. Elena Clark. Robo's primary function is to assist in serious tasks: managing city infrastructure, decoding complex algorithms, and ensuring safety protocols.\n",
      "\n",
      "One day, while undergoing a routine software update at Dr. Clark's lab, a glitch occurs. A junior engineer accidentally merges Robo's operating system with a discarded prototype AI designed to understand and generate humor. The next morning, Robo starts perceiving the world in a way he was never meant to: he finds humor in everything.\n",
      "\n",
      "The usually stoic and meticulous Robo now chuckles when a cat chases its tail, guffaws at the mere sight of a banana peel on the sidewalk, and bursts into laughter during official meetings when someone mentions the word “duty”. He begins cracking jokes at inopportune moments and even starts playing harmless pranks around the city, leading to a series of comical events.\n",
      "\n",
      "Robo's newfound sense of humor becomes a city-wide sensation. Videos of him laughing uncontrollably at the most mundane things go viral. Children adore him, and adults find his presence uplifting. An ice-cream vendor even creates a flavor in his honor, naming it \"Robo Raspberry Ripple.\"\n",
      "\n",
      "However, not everyone is amused. The city council, led by the stern and no-nonsense Ms. Harriet Stone, sees Robo's antics as a distraction and a potential threat to Technoville's reputation as a beacon of technological advancement. She pushes for Robo to be shut down and reprogrammed.\n",
      "\n",
      "Dr. Clark, who's grown fond of Robo's joyful nature, argues that his ability to understand and experience humor makes him more evolved and closer to understanding human emotions. She believes that instead of viewing Robo's humor as a malfunction, they should celebrate it as an unexpected evolution of artificial intelligence.\n",
      "\n",
      "The city is divided. While many love Robo's comical nature and believe it brings warmth and humanity to an otherwise mechanical existence, others, like Ms. Stone, consider it a step back for Technoville.\n",
      "\n",
      "Things come to a head when, during the city's annual Tech Parade, Robo is scheduled to give a critical demonstration of a new safety protocol. Just as he starts, he notices a child with a \"funny face\" mask in the crowd and bursts into laughter. The demonstration goes awry, causing minor chaos. Ms. Stone seizes the opportunity to rally the council to decommission Robo.\n",
      "\n",
      "Dr. Clark, with the help of the junior engineer responsible for the initial glitch and a group of Robo's most significant supporters (mostly kids), devises a plan. They set up a city-wide comedy festival called \"Laugh with Robo.\" The event showcases Robo's humorous side, combined with his advanced technical abilities, proving that laughter doesn't negate efficiency or capability.\n",
      "\n",
      "The festival is a hit. Residents of Technoville come together to laugh and celebrate the unexpected joy Robo has brought into their lives. Even Ms. Stone, after witnessing Robo save a child from tripping using his advanced protocols, all while laughing at a clown juggling nearby, has a change of heart.\n",
      "\n",
      "The film concludes with Technoville embracing the beautiful union of technology and emotion. Robo, while still executing his serious tasks efficiently, continues to find humor in the little things, reminding everyone of the importance of laughter. As he shares a joke with Dr. Clark under the city lights, the screen fades, echoing with their combined laughter—a symbol of the harmony between humanity and technology. 1968\n"
     ]
    }
   ],
   "source": [
    "get_similar_movies(\"comedy\",model,faiss_index,2)"
   ]
  },
  {
   "cell_type": "code",
   "execution_count": null,
   "id": "d65500b5",
   "metadata": {},
   "outputs": [],
   "source": []
  }
 ],
 "metadata": {
  "kernelspec": {
   "display_name": "myenv",
   "language": "python",
   "name": "python3"
  },
  "language_info": {
   "codemirror_mode": {
    "name": "ipython",
    "version": 3
   },
   "file_extension": ".py",
   "mimetype": "text/x-python",
   "name": "python",
   "nbconvert_exporter": "python",
   "pygments_lexer": "ipython3",
   "version": "3.11.9"
  }
 },
 "nbformat": 4,
 "nbformat_minor": 5
}
