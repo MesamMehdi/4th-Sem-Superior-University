{
 "cells": [
  {
   "cell_type": "code",
   "execution_count": null,
   "metadata": {},
   "outputs": [
    {
     "ename": "",
     "evalue": "",
     "output_type": "error",
     "traceback": [
      "\u001b[1;31mThe kernel failed to start as the Python Environment 'env_name (Python 3.11.9)' is no longer available. Consider selecting another kernel or refreshing the list of Python Environments."
     ]
    }
   ],
   "source": [
    "import numpy as np\n",
    "import cv2\n",
    "import face_recognition as fr\n",
    "import matplotlib.pyplot as plt"
   ]
  },
  {
   "cell_type": "markdown",
   "metadata": {},
   "source": [
    "# Measure Face Features"
   ]
  },
  {
   "cell_type": "code",
   "execution_count": null,
   "metadata": {},
   "outputs": [],
   "source": [
    "def measure_face(image_path):\n",
    "    image = cv2.imread(image_path)\n",
    "    rgb_image = cv2.cvtColor(image, cv2.COLOR_BGR2RGB)\n",
    "    \n",
    "    face_landmarks_list = fr.face_landmarks(rgb_image)\n",
    "    \n",
    "    if not face_landmarks_list:\n",
    "        print(\"No face detected.\")\n",
    "        return\n",
    "    \n",
    "    face_landmarks = face_landmarks_list[0]\n",
    "    \n",
    "    left_eye = np.array(face_landmarks['left_eye'])\n",
    "    right_eye = np.array(face_landmarks['right_eye'])\n",
    "    nose_bridge = np.array(face_landmarks['nose_bridge'])\n",
    "    chin = np.array(face_landmarks['chin'])\n",
    "    left_ear = np.array([chin[0], chin[1], chin[2]])  \n",
    "    right_ear = np.array([chin[-1], chin[-2], chin[-3]])  \n",
    "    \n",
    "    eye_width = np.linalg.norm(left_eye[0] - left_eye[3])\n",
    "    nose_length = np.linalg.norm(nose_bridge[0] - nose_bridge[-1])\n",
    "    jaw_width = np.linalg.norm(chin[0] - chin[-1])\n",
    "    left_ear_width = np.linalg.norm(left_ear[0] - left_ear[-1])\n",
    "    right_ear_width = np.linalg.norm(right_ear[0] - right_ear[-1])\n",
    "    \n",
    "    trustworthiness = \"Trustworthy\" if abs(left_ear_width - right_ear_width) < 5 and eye_width > nose_length * 0.5 else \"Untrustworthy\"\n",
    "\n",
    "    for feature in face_landmarks.keys():\n",
    "        points = np.array(face_landmarks[feature])\n",
    "        for point in points:\n",
    "            cv2.circle(rgb_image, tuple(point), 7, (0, 255, 0), -1)  \n",
    "    \n",
    "    plt.figure(figsize=(8, 6))  \n",
    "    plt.imshow(rgb_image)\n",
    "    plt.title(\"Detected Face with Landmarks\")\n",
    "    plt.axis(\"off\")\n",
    "    plt.show()\n",
    "\n",
    "    print(f\"Eye Width: {eye_width:.2f} pixels\")\n",
    "    print(f\"Nose Length: {nose_length:.2f} pixels\")\n",
    "    print(f\"Jaw Width: {jaw_width:.2f} pixels\")\n",
    "    print(f\"Left Ear Width: {left_ear_width:.2f} pixels\")\n",
    "    print(f\"Right Ear Width: {right_ear_width:.2f} pixels\")\n",
    "    print(f\"Person is: {trustworthiness}\")"
   ]
  },
  {
   "cell_type": "code",
   "execution_count": null,
   "metadata": {},
   "outputs": [],
   "source": [
    "image_path = r\"Elon_Musk.jpg\"\n",
    "measure_face(image_path)\n"
   ]
  },
  {
   "cell_type": "code",
   "execution_count": null,
   "metadata": {},
   "outputs": [],
   "source": []
  }
 ],
 "metadata": {
  "kernelspec": {
   "display_name": "Python 3",
   "language": "python",
   "name": "python3"
  },
  "language_info": {
   "codemirror_mode": {
    "name": "ipython",
    "version": 3
   },
   "file_extension": ".py",
   "mimetype": "text/x-python",
   "name": "python",
   "nbconvert_exporter": "python",
   "pygments_lexer": "ipython3",
   "version": "3.11.9"
  }
 },
 "nbformat": 4,
 "nbformat_minor": 2
}
